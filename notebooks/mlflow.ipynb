{
 "cells": [
  {
   "cell_type": "code",
   "execution_count": null,
   "id": "62488008",
   "metadata": {},
   "outputs": [],
   "source": [
    "import pandas as pd\n",
    "file_id = '1POXHpKuXsOHlrBaI2oKM44q46o-MVx7r'\n",
    "url = f'https://drive.google.com/uc?id={file_id}&export=download'\n",
    "output = 'data.csv'\n",
    "\n",
    "gdown.download(url, output, quiet=False)\n",
    "\n",
    "def load_data():\n",
    "    return pd.read_csv(output)\n",
    "df_encoded = load_data()"
   ]
  },
  {
   "cell_type": "code",
   "execution_count": 7,
   "id": "8fe21a92",
   "metadata": {},
   "outputs": [],
   "source": [
    "from sklearn.model_selection import train_test_split\n",
    "X =  df_encoded.drop(columns=['emi_eligibility'])\n",
    "y = df_encoded['emi_eligibility']\n",
    "X_train,X_test,y_train,y_test = train_test_split(X,y,test_size=0.2,random_state=42)\n",
    "\n",
    "\n",
    "from sklearn.preprocessing import LabelEncoder\n",
    "\n",
    "# Create encoder\n",
    "label_encoder = LabelEncoder()\n",
    "\n",
    "# Fit and transform y values\n",
    "y_train_encoded = label_encoder.fit_transform(y_train)\n",
    "y_test_encoded = label_encoder.transform(y_test)\n"
   ]
  },
  {
   "cell_type": "code",
   "execution_count": 23,
   "id": "03b5ad9c",
   "metadata": {},
   "outputs": [
    {
     "name": "stderr",
     "output_type": "stream",
     "text": [
      "c:\\Projects\\emi_predict_ai\\.venv\\Lib\\site-packages\\sklearn\\linear_model\\_logistic.py:473: ConvergenceWarning: lbfgs failed to converge after 1000 iteration(s) (status=1):\n",
      "STOP: TOTAL NO. OF ITERATIONS REACHED LIMIT\n",
      "\n",
      "Increase the number of iterations to improve the convergence (max_iter=1000).\n",
      "You might also want to scale the data as shown in:\n",
      "    https://scikit-learn.org/stable/modules/preprocessing.html\n",
      "Please also refer to the documentation for alternative solver options:\n",
      "    https://scikit-learn.org/stable/modules/linear_model.html#logistic-regression\n",
      "  n_iter_i = _check_optimize_result(\n"
     ]
    },
    {
     "name": "stdout",
     "output_type": "stream",
     "text": [
      "              precision    recall  f1-score   support\n",
      "\n",
      "    Eligible       0.82      0.83      0.82     13866\n",
      "   High_Risk       0.17      0.65      0.27      3247\n",
      "Not_Eligible       0.99      0.84      0.91     61035\n",
      "\n",
      "    accuracy                           0.83     78148\n",
      "   macro avg       0.66      0.77      0.67     78148\n",
      "weighted avg       0.93      0.83      0.87     78148\n",
      "\n",
      "ROC-AUC: 0.9429106359886555\n"
     ]
    }
   ],
   "source": [
    "# LOgistic REgression\n",
    "from sklearn.linear_model import LogisticRegression\n",
    "log_model = LogisticRegression(max_iter=1000,class_weight='balanced')\n",
    "log_model.fit(X_train,y_train)\n",
    "y_pred_log = log_model.predict(X_test)\n",
    "from sklearn.metrics import classification_report,roc_auc_score\n",
    "print(classification_report(y_test,y_pred_log))\n",
    "print(\"ROC-AUC:\", roc_auc_score(y_test, log_model.predict_proba(X_test), multi_class='ovr'))\n"
   ]
  },
  {
   "cell_type": "code",
   "execution_count": 35,
   "id": "8e19da3f",
   "metadata": {},
   "outputs": [
    {
     "name": "stdout",
     "output_type": "stream",
     "text": [
      "              precision    recall  f1-score   support\n",
      "\n",
      "    Eligible       0.93      0.93      0.93     13866\n",
      "   High_Risk       0.92      0.04      0.07      3247\n",
      "Not_Eligible       0.95      1.00      0.97     61035\n",
      "\n",
      "    accuracy                           0.95     78148\n",
      "   macro avg       0.93      0.66      0.66     78148\n",
      "weighted avg       0.95      0.95      0.93     78148\n",
      "\n",
      "ROC-AUC: 0.9814880641682241\n"
     ]
    }
   ],
   "source": [
    "# Random forest\n",
    "from sklearn.ensemble import RandomForestClassifier\n",
    "\n",
    "# Create the model\n",
    "rf_model = RandomForestClassifier(n_estimators=100, class_weight='balanced', random_state=42)\n",
    "\n",
    "# Train the model\n",
    "rf_model.fit(X_train, y_train)\n",
    "\n",
    "# Predict on test data\n",
    "y_pred_rf = rf_model.predict(X_test)\n",
    "\n",
    "\n",
    "# Print metrics\n",
    "print(classification_report(y_test, y_pred_rf))\n",
    "\n",
    "# ROC-AUC (optional)\n",
    "print(\"ROC-AUC:\", roc_auc_score(y_test, rf_model.predict_proba(X_test), multi_class='ovr'))\n"
   ]
  },
  {
   "cell_type": "code",
   "execution_count": null,
   "id": "ed0e342a",
   "metadata": {},
   "outputs": [],
   "source": [
    "from sklearn.preprocessing import StandardScaler\n",
    "\n",
    "scaler = StandardScaler()\n",
    "num_cols = ['monthly_salary', 'bank_balance', 'credit_score', 'total_expenses', 'debt_to_income_ratio', 'expense_to_income_ratio', 'emi_gap', 'credit_risk_score', 'employment_stability']\n",
    "df_encoded[num_cols] = scaler.fit_transform(df_encoded[num_cols])"
   ]
  },
  {
   "cell_type": "code",
   "execution_count": null,
   "id": "5d18ed1c",
   "metadata": {},
   "outputs": [],
   "source": [
    "# Salary × Credit Score\n",
    "df_encoded['salary_credit_interaction'] = df_encoded['monthly_salary'] * df_encoded['credit_score']\n",
    "\n",
    "# Bank Balance × EMI Gap\n",
    "df_encoded['balance_emi_gap'] = df_encoded['bank_balance'] * df_encoded['emi_gap']"
   ]
  },
  {
   "cell_type": "code",
   "execution_count": null,
   "id": "e4ffafd6",
   "metadata": {},
   "outputs": [],
   "source": [
    "df_encoded.to_csv('datasets/encoded_data.csv', index=False)"
   ]
  },
  {
   "cell_type": "code",
   "execution_count": 8,
   "id": "d6cdaa29",
   "metadata": {},
   "outputs": [
    {
     "name": "stderr",
     "output_type": "stream",
     "text": [
      "c:\\Projects\\emi_predict_ai\\.venv\\Lib\\site-packages\\xgboost\\training.py:199: UserWarning: [23:20:16] WARNING: C:\\actions-runner\\_work\\xgboost\\xgboost\\src\\learner.cc:790: \n",
      "Parameters: { \"use_label_encoder\" } are not used.\n",
      "\n",
      "  bst.update(dtrain, iteration=i, fobj=obj)\n"
     ]
    },
    {
     "name": "stdout",
     "output_type": "stream",
     "text": [
      "              precision    recall  f1-score   support\n",
      "\n",
      "           0       0.99      0.97      0.98     13866\n",
      "           1       0.74      0.90      0.81      3247\n",
      "           2       1.00      0.99      0.99     61035\n",
      "\n",
      "    accuracy                           0.98     78148\n",
      "   macro avg       0.91      0.95      0.93     78148\n",
      "weighted avg       0.98      0.98      0.98     78148\n",
      "\n",
      "ROC-AUC: 0.9979712170172425\n"
     ]
    }
   ],
   "source": [
    "from imblearn.over_sampling import SMOTE\n",
    "from xgboost import XGBClassifier\n",
    "from sklearn.metrics import classification_report, roc_auc_score\n",
    "\n",
    "# Balance training data\n",
    "smote = SMOTE(random_state=42)\n",
    "X_train_bal, y_train_bal = smote.fit_resample(X_train, y_train_encoded) #type: ignore\n",
    "\n",
    "# Train model\n",
    "xgb_model = XGBClassifier(use_label_encoder=False, eval_metric='mlogloss')\n",
    "xgb_model.fit(X_train_bal, y_train_bal)\n",
    "\n",
    "# Predict and evaluate\n",
    "y_pred_xgb = xgb_model.predict(X_test)\n",
    "print(classification_report(y_test_encoded, y_pred_xgb))\n",
    "print(\"ROC-AUC:\", roc_auc_score(y_test_encoded, xgb_model.predict_proba(X_test), multi_class='ovr'))"
   ]
  },
  {
   "cell_type": "code",
   "execution_count": 6,
   "id": "32dc77a2",
   "metadata": {},
   "outputs": [
    {
     "name": "stdout",
     "output_type": "stream",
     "text": [
      "              precision    recall  f1-score   support\n",
      "\n",
      "           0       0.97      0.96      0.97     13866\n",
      "           1       0.70      0.72      0.71      3247\n",
      "           2       0.99      0.99      0.99     61035\n",
      "\n",
      "    accuracy                           0.98     78148\n",
      "   macro avg       0.89      0.89      0.89     78148\n",
      "weighted avg       0.98      0.98      0.98     78148\n",
      "\n",
      "ROC-AUC: 0.9383242099254357\n"
     ]
    }
   ],
   "source": [
    "from sklearn.tree import DecisionTreeClassifier\n",
    "\n",
    "dt_model = DecisionTreeClassifier(random_state=42)\n",
    "dt_model.fit(X_train, y_train_encoded)\n",
    "y_pred_dt = dt_model.predict(X_test)\n",
    "from sklearn.metrics import classification_report, roc_auc_score\n",
    "\n",
    "print(classification_report(y_test_encoded, y_pred_dt))\n",
    "print(\"ROC-AUC:\", roc_auc_score(y_test_encoded, dt_model.predict_proba(X_test), multi_class='ovr'))\n"
   ]
  },
  {
   "cell_type": "code",
   "execution_count": 33,
   "id": "6a3cbbe5",
   "metadata": {},
   "outputs": [
    {
     "name": "stdout",
     "output_type": "stream",
     "text": [
      "              precision    recall  f1-score   support\n",
      "\n",
      "           0       0.93      0.99      0.96     13866\n",
      "           1       0.89      0.17      0.28      3247\n",
      "           2       0.97      1.00      0.99     61035\n",
      "\n",
      "    accuracy                           0.96     78148\n",
      "   macro avg       0.93      0.72      0.74     78148\n",
      "weighted avg       0.96      0.96      0.95     78148\n",
      "\n",
      "ROC-AUC: 0.9929381640108464\n"
     ]
    }
   ],
   "source": [
    "from sklearn.ensemble import HistGradientBoostingClassifier\n",
    "\n",
    "hist_gb_model = HistGradientBoostingClassifier(max_iter=100, max_depth=3, random_state=42)\n",
    "hist_gb_model.fit(X_train, y_train_encoded)\n",
    "y_pred_hist = hist_gb_model.predict(X_test)\n",
    "from sklearn.metrics import classification_report, roc_auc_score\n",
    "\n",
    "print(classification_report(y_test_encoded, y_pred_hist))\n",
    "print(\"ROC-AUC:\", roc_auc_score(y_test_encoded, hist_gb_model.predict_proba(X_test), multi_class='ovr'))"
   ]
  },
  {
   "cell_type": "code",
   "execution_count": 17,
   "id": "9993a944",
   "metadata": {},
   "outputs": [],
   "source": [
    "\n",
    "# Drop classification target and regression target from features\n",
    "X_reg = df_encoded.drop(columns=['emi_eligibility', 'max_monthly_emi'])\n",
    "\n",
    "# Set regression target\n",
    "y_reg = df_encoded['max_monthly_emi']\n",
    "from sklearn.model_selection import train_test_split\n",
    "\n",
    "X_train_reg, X_test_reg, y_train_reg, y_test_reg = train_test_split(\n",
    "    X_reg, y_reg, test_size=0.2, random_state=42\n",
    ")\n",
    "from sklearn.preprocessing import StandardScaler\n",
    "\n",
    "scaler = StandardScaler()\n",
    "X_train_scaled = scaler.fit_transform(X_train_reg)\n",
    "X_test_scaled = scaler.transform(X_test_reg)\n"
   ]
  },
  {
   "cell_type": "code",
   "execution_count": 18,
   "id": "1f917cb4",
   "metadata": {},
   "outputs": [],
   "source": [
    "from sklearn.metrics import mean_squared_error, mean_absolute_error, r2_score, mean_absolute_percentage_error\n",
    "import numpy as np\n",
    "\n",
    "def evaluate_regression_model(y_true, y_pred):\n",
    "    rmse = np.sqrt(mean_squared_error(y_true, y_pred))  # manual square root\n",
    "    mae = mean_absolute_error(y_true, y_pred)\n",
    "    r2 = r2_score(y_true, y_pred)\n",
    "    mape = mean_absolute_percentage_error(y_true, y_pred)\n",
    "\n",
    "    print(f\"RMSE: {rmse:.2f}\")\n",
    "    print(f\"MAE: {mae:.2f}\")\n",
    "    print(f\"R² Score: {r2:.4f}\")\n",
    "    print(f\"MAPE: {mape:.2%}\")\n"
   ]
  },
  {
   "cell_type": "code",
   "execution_count": 19,
   "id": "d438811f",
   "metadata": {},
   "outputs": [
    {
     "name": "stdout",
     "output_type": "stream",
     "text": [
      "RMSE: 0.00\n",
      "MAE: 0.00\n",
      "R² Score: 1.0000\n",
      "MAPE: 0.00%\n"
     ]
    }
   ],
   "source": [
    "from sklearn.linear_model import LinearRegression\n",
    "\n",
    "lr_model = LinearRegression()\n",
    "lr_model.fit(X_train_scaled, y_train_reg)\n",
    "y_pred_lr = lr_model.predict(X_test_scaled)\n",
    "evaluate_regression_model(y_test_reg, y_pred_lr)\n"
   ]
  },
  {
   "cell_type": "code",
   "execution_count": 30,
   "id": "2cadf511",
   "metadata": {},
   "outputs": [
    {
     "name": "stdout",
     "output_type": "stream",
     "text": [
      "RMSE: 264.01\n",
      "MAE: 142.01\n",
      "R² Score: 0.9986\n",
      "MAPE: 7.18%\n"
     ]
    }
   ],
   "source": [
    "from xgboost import XGBRegressor\n",
    "xgb_model_reg = XGBRegressor(n_estimators=100, random_state=42)\n",
    "xgb_model_reg.fit(X_train_reg, y_train_reg)\n",
    "y_pred_xgb = xgb_model_reg.predict(X_test_reg)\n",
    "evaluate_regression_model(y_test_reg, y_pred_xgb)\n"
   ]
  },
  {
   "cell_type": "code",
   "execution_count": 7,
   "id": "0262c1aa",
   "metadata": {},
   "outputs": [
    {
     "name": "stdout",
     "output_type": "stream",
     "text": [
      "RMSE: 349.52\n",
      "MAE: 109.57\n",
      "R² Score: 0.9976\n",
      "MAPE: 4.19%\n"
     ]
    }
   ],
   "source": [
    "from sklearn.tree import DecisionTreeRegressor\n",
    "dt_model = DecisionTreeRegressor(random_state=42)\n",
    "dt_model.fit(X_train_reg, y_train_reg)\n",
    "y_pred_dt = dt_model.predict(X_test_reg)\n",
    "evaluate_regression_model(y_test_reg, y_pred_dt)\n"
   ]
  },
  {
   "cell_type": "code",
   "execution_count": 5,
   "id": "722dad4d",
   "metadata": {},
   "outputs": [
    {
     "name": "stdout",
     "output_type": "stream",
     "text": [
      "RMSE: 564.85\n",
      "MAE: 357.67\n",
      "R² Score: 0.9938\n",
      "MAPE: 25.99%\n"
     ]
    }
   ],
   "source": [
    "from sklearn.ensemble import HistGradientBoostingRegressor\n",
    "\n",
    "hist_gb_reg = HistGradientBoostingRegressor(max_iter=100, max_depth=3, random_state=42)\n",
    "hist_gb_reg.fit(X_train_reg, y_train_reg)\n",
    "y_pred_hist = hist_gb_reg.predict(X_test_reg)\n",
    "evaluate_regression_model(y_test_reg, y_pred_hist)\n"
   ]
  },
  {
   "cell_type": "code",
   "execution_count": null,
   "id": "b3abb9d4",
   "metadata": {},
   "outputs": [],
   "source": [
    "import pandas as pd\n",
    "import numpy as np\n",
    "import mlflow\n",
    "import mlflow.sklearn\n",
    "from sklearn.model_selection import train_test_split\n",
    "from sklearn.preprocessing import LabelEncoder, StandardScaler\n",
    "from sklearn.metrics import (\n",
    "    classification_report, roc_auc_score,\n",
    "    mean_squared_error, mean_absolute_error,\n",
    "    r2_score, mean_absolute_percentage_error\n",
    ")\n",
    "\n",
    "# Load data\n",
    "df_encoded = pd.read_csv('datasets/encoded_data.csv')\n",
    "\n",
    "# Classification setup\n",
    "X = df_encoded.drop(columns=['emi_eligibility'])\n",
    "y = df_encoded['emi_eligibility']\n",
    "X_train, X_test, y_train, y_test = train_test_split(X, y, test_size=0.2, random_state=42)\n",
    "\n",
    "label_encoder = LabelEncoder()\n",
    "y_train_encoded = label_encoder.fit_transform(y_train)\n",
    "y_test_encoded = label_encoder.transform(y_test)\n",
    "\n",
    "# Regression setup\n",
    "X_reg = df_encoded.drop(columns=['emi_eligibility', 'max_monthly_emi'])\n",
    "y_reg = df_encoded['max_monthly_emi']\n",
    "X_train_reg, X_test_reg, y_train_reg, y_test_reg = train_test_split(X_reg, y_reg, test_size=0.2, random_state=42)\n",
    "\n",
    "scaler = StandardScaler()\n",
    "X_train_scaled = scaler.fit_transform(X_train_reg)\n",
    "X_test_scaled = scaler.transform(X_test_reg)"
   ]
  },
  {
   "cell_type": "code",
   "execution_count": 13,
   "id": "69020f00",
   "metadata": {},
   "outputs": [
    {
     "name": "stdout",
     "output_type": "stream",
     "text": [
      "['Eligible', 'High_Risk', 'Not_Eligible']\n"
     ]
    }
   ],
   "source": [
    "print(list(label_encoder.classes_))"
   ]
  },
  {
   "cell_type": "code",
   "execution_count": 39,
   "id": "22247f43",
   "metadata": {},
   "outputs": [
    {
     "name": "stderr",
     "output_type": "stream",
     "text": [
      "2025/10/29 23:49:26 INFO mlflow.tracking.fluent: Experiment with name 'EMI Classification Models' does not exist. Creating a new experiment.\n"
     ]
    },
    {
     "data": {
      "text/plain": [
       "<Experiment: artifact_location='file:///c:/Projects/emi_predict_ai/mlruns/958227794677363910', creation_time=1761761966634, experiment_id='958227794677363910', last_update_time=1761761966634, lifecycle_stage='active', name='EMI Classification Models', tags={}>"
      ]
     },
     "execution_count": 39,
     "metadata": {},
     "output_type": "execute_result"
    }
   ],
   "source": [
    "import mlflow\n",
    "mlflow.set_experiment(\"EMI Classification Models\")"
   ]
  },
  {
   "cell_type": "code",
   "execution_count": 42,
   "id": "57b27433",
   "metadata": {},
   "outputs": [
    {
     "name": "stderr",
     "output_type": "stream",
     "text": [
      "c:\\Projects\\emi_predict_ai\\.venv\\Lib\\site-packages\\sklearn\\linear_model\\_logistic.py:473: ConvergenceWarning: lbfgs failed to converge after 1000 iteration(s) (status=1):\n",
      "STOP: TOTAL NO. OF ITERATIONS REACHED LIMIT\n",
      "\n",
      "Increase the number of iterations to improve the convergence (max_iter=1000).\n",
      "You might also want to scale the data as shown in:\n",
      "    https://scikit-learn.org/stable/modules/preprocessing.html\n",
      "Please also refer to the documentation for alternative solver options:\n",
      "    https://scikit-learn.org/stable/modules/linear_model.html#logistic-regression\n",
      "  n_iter_i = _check_optimize_result(\n",
      "2025/10/30 00:05:03 WARNING mlflow.models.model: `artifact_path` is deprecated. Please use `name` instead.\n",
      "c:\\Projects\\emi_predict_ai\\.venv\\Lib\\site-packages\\mlflow\\types\\utils.py:452: UserWarning: Hint: Inferred schema contains integer column(s). Integer columns in Python cannot represent missing values. If your input data contains missing values at inference time, it will be encoded as floats and will cause a schema enforcement error. The best way to avoid this problem is to infer the model schema based on a realistic data sample (training dataset) that includes missing values. Alternatively, you can declare integer columns as doubles (float64) whenever these columns may have missing values. See `Handling Integers With Missing Values <https://www.mlflow.org/docs/latest/models.html#handling-integers-with-missing-values>`_ for more details.\n",
      "  warnings.warn(\n"
     ]
    }
   ],
   "source": [
    "from sklearn.metrics import accuracy_score, precision_score, recall_score, f1_score, roc_auc_score\n",
    "\n",
    "with mlflow.start_run(run_name=\"Logistic Regression\"):\n",
    "    log_model = LogisticRegression(max_iter=1000, class_weight='balanced')\n",
    "    log_model.fit(X_train, y_train)\n",
    "    y_pred = log_model.predict(X_test)\n",
    "    y_pred_proba = log_model.predict_proba(X_test)\n",
    "\n",
    "    mlflow.log_params(log_model.get_params())\n",
    "    mlflow.log_metric(\"Accuracy\", accuracy_score(y_test, y_pred))\n",
    "    mlflow.log_metric(\"Precision\", precision_score(y_test, y_pred, average='weighted'))\n",
    "    mlflow.log_metric(\"Recall\", recall_score(y_test, y_pred, average='weighted'))\n",
    "    mlflow.log_metric(\"F1_Score\", f1_score(y_test, y_pred, average='weighted'))\n",
    "    mlflow.log_metric(\"ROC_AUC\", roc_auc_score(y_test, y_pred_proba, multi_class='ovr'))\n",
    "\n",
    "    mlflow.sklearn.log_model(log_model, \"model\", input_example=pd.DataFrame(X_test[:1]))"
   ]
  },
  {
   "cell_type": "code",
   "execution_count": 43,
   "id": "6b4cc995",
   "metadata": {},
   "outputs": [
    {
     "name": "stderr",
     "output_type": "stream",
     "text": [
      "2025/10/30 00:51:49 WARNING mlflow.models.model: `artifact_path` is deprecated. Please use `name` instead.\n",
      "c:\\Projects\\emi_predict_ai\\.venv\\Lib\\site-packages\\mlflow\\types\\utils.py:452: UserWarning: Hint: Inferred schema contains integer column(s). Integer columns in Python cannot represent missing values. If your input data contains missing values at inference time, it will be encoded as floats and will cause a schema enforcement error. The best way to avoid this problem is to infer the model schema based on a realistic data sample (training dataset) that includes missing values. Alternatively, you can declare integer columns as doubles (float64) whenever these columns may have missing values. See `Handling Integers With Missing Values <https://www.mlflow.org/docs/latest/models.html#handling-integers-with-missing-values>`_ for more details.\n",
      "  warnings.warn(\n"
     ]
    }
   ],
   "source": [
    "from sklearn.ensemble import RandomForestClassifier\n",
    "from sklearn.metrics import accuracy_score, precision_score, recall_score, f1_score, roc_auc_score\n",
    "\n",
    "with mlflow.start_run(run_name=\"Random Forest Classifier\"):\n",
    "    rf_model = RandomForestClassifier(n_estimators=100, class_weight='balanced', random_state=42)\n",
    "    rf_model.fit(X_train, y_train)\n",
    "    y_pred = rf_model.predict(X_test)\n",
    "    y_pred_proba = rf_model.predict_proba(X_test)\n",
    "\n",
    "    mlflow.log_params(rf_model.get_params())\n",
    "    mlflow.log_metric(\"Accuracy\", accuracy_score(y_test, y_pred))\n",
    "    mlflow.log_metric(\"Precision\", precision_score(y_test, y_pred, average='weighted'))\n",
    "    mlflow.log_metric(\"Recall\", recall_score(y_test, y_pred, average='weighted'))\n",
    "    mlflow.log_metric(\"F1_Score\", f1_score(y_test, y_pred, average='weighted'))\n",
    "    mlflow.log_metric(\"ROC_AUC\", roc_auc_score(y_test, y_pred_proba, multi_class='ovr'))\n",
    "\n",
    "    mlflow.sklearn.log_model(rf_model, \"model\", input_example=pd.DataFrame(X_test[:1]))"
   ]
  },
  {
   "cell_type": "code",
   "execution_count": 44,
   "id": "70da27d4",
   "metadata": {},
   "outputs": [
    {
     "name": "stderr",
     "output_type": "stream",
     "text": [
      "c:\\Projects\\emi_predict_ai\\.venv\\Lib\\site-packages\\xgboost\\training.py:199: UserWarning: [00:54:45] WARNING: C:\\actions-runner\\_work\\xgboost\\xgboost\\src\\learner.cc:790: \n",
      "Parameters: { \"use_label_encoder\" } are not used.\n",
      "\n",
      "  bst.update(dtrain, iteration=i, fobj=obj)\n",
      "2025/10/30 00:54:54 WARNING mlflow.models.model: `artifact_path` is deprecated. Please use `name` instead.\n",
      "c:\\Projects\\emi_predict_ai\\.venv\\Lib\\site-packages\\mlflow\\types\\utils.py:452: UserWarning: Hint: Inferred schema contains integer column(s). Integer columns in Python cannot represent missing values. If your input data contains missing values at inference time, it will be encoded as floats and will cause a schema enforcement error. The best way to avoid this problem is to infer the model schema based on a realistic data sample (training dataset) that includes missing values. Alternatively, you can declare integer columns as doubles (float64) whenever these columns may have missing values. See `Handling Integers With Missing Values <https://www.mlflow.org/docs/latest/models.html#handling-integers-with-missing-values>`_ for more details.\n",
      "  warnings.warn(\n",
      "c:\\Projects\\emi_predict_ai\\.venv\\Lib\\site-packages\\mlflow\\types\\utils.py:452: UserWarning: Hint: Inferred schema contains integer column(s). Integer columns in Python cannot represent missing values. If your input data contains missing values at inference time, it will be encoded as floats and will cause a schema enforcement error. The best way to avoid this problem is to infer the model schema based on a realistic data sample (training dataset) that includes missing values. Alternatively, you can declare integer columns as doubles (float64) whenever these columns may have missing values. See `Handling Integers With Missing Values <https://www.mlflow.org/docs/latest/models.html#handling-integers-with-missing-values>`_ for more details.\n",
      "  warnings.warn(\n"
     ]
    }
   ],
   "source": [
    "from xgboost import XGBClassifier\n",
    "from sklearn.metrics import accuracy_score, precision_score, recall_score, f1_score, roc_auc_score\n",
    "\n",
    "mlflow.set_experiment(\"EMI Classification Models\")\n",
    "with mlflow.start_run(run_name=\"XGBoost Classifier\"):\n",
    "    xgb_model = XGBClassifier(use_label_encoder=False, eval_metric='mlogloss')\n",
    "    xgb_model.fit(X_train_bal, y_train_bal)\n",
    "    y_pred = xgb_model.predict(X_test)\n",
    "    y_pred_proba = xgb_model.predict_proba(X_test)\n",
    "\n",
    "    mlflow.log_params(xgb_model.get_params())\n",
    "    mlflow.log_metric(\"Accuracy\", accuracy_score(y_test_encoded, y_pred))\n",
    "    mlflow.log_metric(\"Precision\", precision_score(y_test_encoded, y_pred, average='weighted'))\n",
    "    mlflow.log_metric(\"Recall\", recall_score(y_test_encoded, y_pred, average='weighted'))\n",
    "    mlflow.log_metric(\"F1_Score\", f1_score(y_test_encoded, y_pred, average='weighted'))\n",
    "    mlflow.log_metric(\"ROC_AUC\", roc_auc_score(y_test_encoded, y_pred_proba, multi_class='ovr'))\n",
    "\n",
    "    mlflow.sklearn.log_model(xgb_model, \"model\", input_example=pd.DataFrame(X_test[:1]))"
   ]
  },
  {
   "cell_type": "code",
   "execution_count": 45,
   "id": "4d2ca6f7",
   "metadata": {},
   "outputs": [
    {
     "name": "stderr",
     "output_type": "stream",
     "text": [
      "2025/10/30 00:55:48 WARNING mlflow.models.model: `artifact_path` is deprecated. Please use `name` instead.\n",
      "c:\\Projects\\emi_predict_ai\\.venv\\Lib\\site-packages\\mlflow\\types\\utils.py:452: UserWarning: Hint: Inferred schema contains integer column(s). Integer columns in Python cannot represent missing values. If your input data contains missing values at inference time, it will be encoded as floats and will cause a schema enforcement error. The best way to avoid this problem is to infer the model schema based on a realistic data sample (training dataset) that includes missing values. Alternatively, you can declare integer columns as doubles (float64) whenever these columns may have missing values. See `Handling Integers With Missing Values <https://www.mlflow.org/docs/latest/models.html#handling-integers-with-missing-values>`_ for more details.\n",
      "  warnings.warn(\n",
      "c:\\Projects\\emi_predict_ai\\.venv\\Lib\\site-packages\\mlflow\\types\\utils.py:452: UserWarning: Hint: Inferred schema contains integer column(s). Integer columns in Python cannot represent missing values. If your input data contains missing values at inference time, it will be encoded as floats and will cause a schema enforcement error. The best way to avoid this problem is to infer the model schema based on a realistic data sample (training dataset) that includes missing values. Alternatively, you can declare integer columns as doubles (float64) whenever these columns may have missing values. See `Handling Integers With Missing Values <https://www.mlflow.org/docs/latest/models.html#handling-integers-with-missing-values>`_ for more details.\n",
      "  warnings.warn(\n"
     ]
    }
   ],
   "source": [
    "from sklearn.tree import DecisionTreeClassifier\n",
    "from sklearn.metrics import accuracy_score, precision_score, recall_score, f1_score, roc_auc_score\n",
    "\n",
    "mlflow.set_experiment(\"EMI Classification Models\")\n",
    "with mlflow.start_run(run_name=\"Decision Tree Classifier\"):\n",
    "    dt_model = DecisionTreeClassifier(random_state=42)\n",
    "    dt_model.fit(X_train, y_train_encoded)\n",
    "    y_pred = dt_model.predict(X_test)\n",
    "    y_pred_proba = dt_model.predict_proba(X_test)\n",
    "\n",
    "    mlflow.log_params(dt_model.get_params())\n",
    "    mlflow.log_metric(\"Accuracy\", accuracy_score(y_test_encoded, y_pred))\n",
    "    mlflow.log_metric(\"Precision\", precision_score(y_test_encoded, y_pred, average='weighted'))\n",
    "    mlflow.log_metric(\"Recall\", recall_score(y_test_encoded, y_pred, average='weighted'))\n",
    "    mlflow.log_metric(\"F1_Score\", f1_score(y_test_encoded, y_pred, average='weighted'))\n",
    "    mlflow.log_metric(\"ROC_AUC\", roc_auc_score(y_test_encoded, y_pred_proba, multi_class='ovr'))\n",
    "\n",
    "    mlflow.sklearn.log_model(dt_model, \"model\", input_example=pd.DataFrame(X_test[:1]))"
   ]
  },
  {
   "cell_type": "code",
   "execution_count": 46,
   "id": "84077921",
   "metadata": {},
   "outputs": [
    {
     "name": "stderr",
     "output_type": "stream",
     "text": [
      "2025/10/30 00:56:31 WARNING mlflow.models.model: `artifact_path` is deprecated. Please use `name` instead.\n",
      "c:\\Projects\\emi_predict_ai\\.venv\\Lib\\site-packages\\mlflow\\types\\utils.py:452: UserWarning: Hint: Inferred schema contains integer column(s). Integer columns in Python cannot represent missing values. If your input data contains missing values at inference time, it will be encoded as floats and will cause a schema enforcement error. The best way to avoid this problem is to infer the model schema based on a realistic data sample (training dataset) that includes missing values. Alternatively, you can declare integer columns as doubles (float64) whenever these columns may have missing values. See `Handling Integers With Missing Values <https://www.mlflow.org/docs/latest/models.html#handling-integers-with-missing-values>`_ for more details.\n",
      "  warnings.warn(\n",
      "c:\\Projects\\emi_predict_ai\\.venv\\Lib\\site-packages\\mlflow\\types\\utils.py:452: UserWarning: Hint: Inferred schema contains integer column(s). Integer columns in Python cannot represent missing values. If your input data contains missing values at inference time, it will be encoded as floats and will cause a schema enforcement error. The best way to avoid this problem is to infer the model schema based on a realistic data sample (training dataset) that includes missing values. Alternatively, you can declare integer columns as doubles (float64) whenever these columns may have missing values. See `Handling Integers With Missing Values <https://www.mlflow.org/docs/latest/models.html#handling-integers-with-missing-values>`_ for more details.\n",
      "  warnings.warn(\n"
     ]
    }
   ],
   "source": [
    "from sklearn.ensemble import HistGradientBoostingClassifier\n",
    "from sklearn.metrics import accuracy_score, precision_score, recall_score, f1_score, roc_auc_score\n",
    "\n",
    "mlflow.set_experiment(\"EMI Classification Models\")\n",
    "with mlflow.start_run(run_name=\"HistGradientBoosting Classifier\"):\n",
    "    hist_gb_model = HistGradientBoostingClassifier(max_iter=100, max_depth=3, random_state=42)\n",
    "    hist_gb_model.fit(X_train, y_train_encoded)\n",
    "    y_pred = hist_gb_model.predict(X_test)\n",
    "    y_pred_proba = hist_gb_model.predict_proba(X_test)\n",
    "\n",
    "    mlflow.log_params(hist_gb_model.get_params())\n",
    "    mlflow.log_metric(\"Accuracy\", accuracy_score(y_test_encoded, y_pred))\n",
    "    mlflow.log_metric(\"Precision\", precision_score(y_test_encoded, y_pred, average='weighted'))\n",
    "    mlflow.log_metric(\"Recall\", recall_score(y_test_encoded, y_pred, average='weighted'))\n",
    "    mlflow.log_metric(\"F1_Score\", f1_score(y_test_encoded, y_pred, average='weighted'))\n",
    "    mlflow.log_metric(\"ROC_AUC\", roc_auc_score(y_test_encoded, y_pred_proba, multi_class='ovr'))\n",
    "\n",
    "    mlflow.sklearn.log_model(hist_gb_model, \"model\", input_example=pd.DataFrame(X_test[:1]))"
   ]
  },
  {
   "cell_type": "code",
   "execution_count": 47,
   "id": "d1ac5463",
   "metadata": {},
   "outputs": [
    {
     "name": "stderr",
     "output_type": "stream",
     "text": [
      "2025/10/30 00:57:27 INFO mlflow.tracking.fluent: Experiment with name 'EMI Regression Models' does not exist. Creating a new experiment.\n"
     ]
    },
    {
     "data": {
      "text/plain": [
       "<Experiment: artifact_location='file:///c:/Projects/emi_predict_ai/mlruns/884078883015768601', creation_time=1761766047917, experiment_id='884078883015768601', last_update_time=1761766047917, lifecycle_stage='active', name='EMI Regression Models', tags={}>"
      ]
     },
     "execution_count": 47,
     "metadata": {},
     "output_type": "execute_result"
    }
   ],
   "source": [
    "mlflow.set_experiment(\"EMI Regression Models\")\n"
   ]
  },
  {
   "cell_type": "code",
   "execution_count": 48,
   "id": "3585d326",
   "metadata": {},
   "outputs": [
    {
     "name": "stderr",
     "output_type": "stream",
     "text": [
      "2025/10/30 00:59:57 WARNING mlflow.models.model: `artifact_path` is deprecated. Please use `name` instead.\n"
     ]
    }
   ],
   "source": [
    "from sklearn.linear_model import LinearRegression\n",
    "from sklearn.metrics import mean_squared_error, mean_absolute_error, r2_score, mean_absolute_percentage_error\n",
    "import numpy as np\n",
    "\n",
    "with mlflow.start_run(run_name=\"Linear Regression\"):\n",
    "    lr_model = LinearRegression()\n",
    "    lr_model.fit(X_train_scaled, y_train_reg)\n",
    "    y_pred = lr_model.predict(X_test_scaled)\n",
    "\n",
    "    mlflow.log_params(lr_model.get_params())\n",
    "    mlflow.log_metric(\"RMSE\", np.sqrt(mean_squared_error(y_test_reg, y_pred)))\n",
    "    mlflow.log_metric(\"MAE\", mean_absolute_error(y_test_reg, y_pred))\n",
    "    mlflow.log_metric(\"R2\", r2_score(y_test_reg, y_pred))\n",
    "    mlflow.log_metric(\"MAPE\", mean_absolute_percentage_error(y_test_reg, y_pred))\n",
    "\n",
    "    mlflow.sklearn.log_model(lr_model, \"model\", input_example=pd.DataFrame(X_test_scaled[:1]))"
   ]
  },
  {
   "cell_type": "code",
   "execution_count": 49,
   "id": "bc592031",
   "metadata": {},
   "outputs": [
    {
     "name": "stderr",
     "output_type": "stream",
     "text": [
      "2025/10/30 01:01:42 WARNING mlflow.models.model: `artifact_path` is deprecated. Please use `name` instead.\n",
      "c:\\Projects\\emi_predict_ai\\.venv\\Lib\\site-packages\\mlflow\\types\\utils.py:452: UserWarning: Hint: Inferred schema contains integer column(s). Integer columns in Python cannot represent missing values. If your input data contains missing values at inference time, it will be encoded as floats and will cause a schema enforcement error. The best way to avoid this problem is to infer the model schema based on a realistic data sample (training dataset) that includes missing values. Alternatively, you can declare integer columns as doubles (float64) whenever these columns may have missing values. See `Handling Integers With Missing Values <https://www.mlflow.org/docs/latest/models.html#handling-integers-with-missing-values>`_ for more details.\n",
      "  warnings.warn(\n"
     ]
    }
   ],
   "source": [
    "from xgboost import XGBRegressor\n",
    "from sklearn.metrics import mean_squared_error, mean_absolute_error, r2_score, mean_absolute_percentage_error\n",
    "import numpy as np\n",
    "\n",
    "with mlflow.start_run(run_name=\"XGBoost Regressor\"):\n",
    "    xgb_model_reg = XGBRegressor(n_estimators=100, random_state=42)\n",
    "    xgb_model_reg.fit(X_train_reg, y_train_reg)\n",
    "    y_pred = xgb_model_reg.predict(X_test_reg)\n",
    "\n",
    "    mlflow.log_params(xgb_model_reg.get_params())\n",
    "    mlflow.log_metric(\"RMSE\", np.sqrt(mean_squared_error(y_test_reg, y_pred)))\n",
    "    mlflow.log_metric(\"MAE\", mean_absolute_error(y_test_reg, y_pred))\n",
    "    mlflow.log_metric(\"R2\", r2_score(y_test_reg, y_pred))\n",
    "    mlflow.log_metric(\"MAPE\", mean_absolute_percentage_error(y_test_reg, y_pred))\n",
    "\n",
    "    mlflow.sklearn.log_model(xgb_model_reg, \"model\", input_example=pd.DataFrame(X_test_reg[:1]))"
   ]
  },
  {
   "cell_type": "code",
   "execution_count": 50,
   "id": "022534fa",
   "metadata": {},
   "outputs": [
    {
     "ename": "",
     "evalue": "",
     "output_type": "error",
     "traceback": [
      "\u001b[1;31mThe Kernel crashed while executing code in the current cell or a previous cell. \n",
      "\u001b[1;31mPlease review the code in the cell(s) to identify a possible cause of the failure. \n",
      "\u001b[1;31mClick <a href='https://aka.ms/vscodeJupyterKernelCrash'>here</a> for more info. \n",
      "\u001b[1;31mView Jupyter <a href='command:jupyter.viewOutput'>log</a> for further details."
     ]
    }
   ],
   "source": [
    "from sklearn.svm import SVR\n",
    "from sklearn.metrics import mean_squared_error, mean_absolute_error, r2_score, mean_absolute_percentage_error\n",
    "import numpy as np\n",
    "\n",
    "with mlflow.start_run(run_name=\"SVR\"):\n",
    "    svr_model = SVR()\n",
    "    svr_model.fit(X_train_scaled, y_train_reg)\n",
    "    y_pred = svr_model.predict(X_test_scaled)\n",
    "\n",
    "    mlflow.log_params(svr_model.get_params())\n",
    "    mlflow.log_metric(\"RMSE\", np.sqrt(mean_squared_error(y_test_reg, y_pred)))\n",
    "    mlflow.log_metric(\"MAE\", mean_absolute_error(y_test_reg, y_pred))\n",
    "    mlflow.log_metric(\"R2\", r2_score(y_test_reg, y_pred))\n",
    "    mlflow.log_metric(\"MAPE\", mean_absolute_percentage_error(y_test_reg, y_pred))\n",
    "\n",
    "    mlflow.sklearn.log_model(svr_model, \"model\", input_example=pd.DataFrame(X_test_scaled[:1]))"
   ]
  },
  {
   "cell_type": "code",
   "execution_count": 5,
   "id": "ef32e389",
   "metadata": {},
   "outputs": [
    {
     "name": "stderr",
     "output_type": "stream",
     "text": [
      "2025/10/30 01:13:39 WARNING mlflow.models.model: `artifact_path` is deprecated. Please use `name` instead.\n",
      "c:\\Projects\\emi_predict_ai\\.venv\\Lib\\site-packages\\mlflow\\types\\utils.py:452: UserWarning: Hint: Inferred schema contains integer column(s). Integer columns in Python cannot represent missing values. If your input data contains missing values at inference time, it will be encoded as floats and will cause a schema enforcement error. The best way to avoid this problem is to infer the model schema based on a realistic data sample (training dataset) that includes missing values. Alternatively, you can declare integer columns as doubles (float64) whenever these columns may have missing values. See `Handling Integers With Missing Values <https://www.mlflow.org/docs/latest/models.html#handling-integers-with-missing-values>`_ for more details.\n",
      "  warnings.warn(\n"
     ]
    },
    {
     "name": "stdout",
     "output_type": "stream",
     "text": [
      "🏃 View run Decision Tree Regressor at: http://127.0.0.1:5000/#/experiments/884078883015768601/runs/4bfa1b4ee9bf4d918198bace20b9fa3a\n",
      "🧪 View experiment at: http://127.0.0.1:5000/#/experiments/884078883015768601\n"
     ]
    }
   ],
   "source": [
    "from sklearn.tree import DecisionTreeRegressor\n",
    "from sklearn.metrics import mean_squared_error, mean_absolute_error, r2_score, mean_absolute_percentage_error\n",
    "import numpy as np\n",
    "\n",
    "with mlflow.start_run(run_name=\"Decision Tree Regressor\"):\n",
    "    dt_model = DecisionTreeRegressor(random_state=42)\n",
    "    dt_model.fit(X_train_reg, y_train_reg)\n",
    "    y_pred = dt_model.predict(X_test_reg)\n",
    "\n",
    "    mlflow.log_params(dt_model.get_params())\n",
    "    mlflow.log_metric(\"RMSE\", np.sqrt(mean_squared_error(y_test_reg, y_pred)))\n",
    "    mlflow.log_metric(\"MAE\", mean_absolute_error(y_test_reg, y_pred))\n",
    "    mlflow.log_metric(\"R2\", r2_score(y_test_reg, y_pred))\n",
    "    mlflow.log_metric(\"MAPE\", mean_absolute_percentage_error(y_test_reg, y_pred))\n",
    "\n",
    "    mlflow.sklearn.log_model(dt_model, \"model\", input_example=pd.DataFrame(X_test_reg[:1]))"
   ]
  },
  {
   "cell_type": "code",
   "execution_count": 3,
   "id": "38689fe2",
   "metadata": {},
   "outputs": [],
   "source": [
    "mlflow.set_tracking_uri(\"http://127.0.0.1:5000/\")"
   ]
  },
  {
   "cell_type": "code",
   "execution_count": 4,
   "id": "7d9acee0",
   "metadata": {},
   "outputs": [
    {
     "data": {
      "text/plain": [
       "<Experiment: artifact_location='file:///c:/Projects/emi_predict_ai/mlruns/884078883015768601', creation_time=1761766047917, experiment_id='884078883015768601', last_update_time=1761766047917, lifecycle_stage='active', name='EMI Regression Models', tags={}>"
      ]
     },
     "execution_count": 4,
     "metadata": {},
     "output_type": "execute_result"
    }
   ],
   "source": [
    "mlflow.set_tracking_uri(\"http://127.0.0.1:5000/\")\n",
    "mlflow.set_experiment(\"EMI Regression Models\")"
   ]
  },
  {
   "cell_type": "code",
   "execution_count": 6,
   "id": "5335a9ce",
   "metadata": {},
   "outputs": [
    {
     "name": "stderr",
     "output_type": "stream",
     "text": [
      "2025/10/30 01:14:27 WARNING mlflow.models.model: `artifact_path` is deprecated. Please use `name` instead.\n",
      "c:\\Projects\\emi_predict_ai\\.venv\\Lib\\site-packages\\mlflow\\types\\utils.py:452: UserWarning: Hint: Inferred schema contains integer column(s). Integer columns in Python cannot represent missing values. If your input data contains missing values at inference time, it will be encoded as floats and will cause a schema enforcement error. The best way to avoid this problem is to infer the model schema based on a realistic data sample (training dataset) that includes missing values. Alternatively, you can declare integer columns as doubles (float64) whenever these columns may have missing values. See `Handling Integers With Missing Values <https://www.mlflow.org/docs/latest/models.html#handling-integers-with-missing-values>`_ for more details.\n",
      "  warnings.warn(\n"
     ]
    },
    {
     "name": "stdout",
     "output_type": "stream",
     "text": [
      "🏃 View run HistGradientBoosting Regressor at: http://127.0.0.1:5000/#/experiments/884078883015768601/runs/8367f82dee4c405cba7d7a15e8aaafe8\n",
      "🧪 View experiment at: http://127.0.0.1:5000/#/experiments/884078883015768601\n"
     ]
    }
   ],
   "source": [
    "from sklearn.ensemble import HistGradientBoostingRegressor\n",
    "from sklearn.metrics import mean_squared_error, mean_absolute_error, r2_score, mean_absolute_percentage_error\n",
    "import numpy as np\n",
    "\n",
    "mlflow.set_experiment(\"EMI Regression Models\")\n",
    "with mlflow.start_run(run_name=\"HistGradientBoosting Regressor\"):\n",
    "    hist_gb_reg = HistGradientBoostingRegressor(max_iter=100, max_depth=3, random_state=42)\n",
    "    hist_gb_reg.fit(X_train_reg, y_train_reg)\n",
    "    y_pred = hist_gb_reg.predict(X_test_reg)\n",
    "\n",
    "    mlflow.log_params(hist_gb_reg.get_params())\n",
    "    mlflow.log_metric(\"RMSE\", np.sqrt(mean_squared_error(y_test_reg, y_pred)))\n",
    "    mlflow.log_metric(\"MAE\", mean_absolute_error(y_test_reg, y_pred))\n",
    "    mlflow.log_metric(\"R2\", r2_score(y_test_reg, y_pred))\n",
    "    mlflow.log_metric(\"MAPE\", mean_absolute_percentage_error(y_test_reg, y_pred))\n",
    "\n",
    "    mlflow.sklearn.log_model(hist_gb_reg, \"model\", input_example=pd.DataFrame(X_test_reg[:1]))"
   ]
  },
  {
   "cell_type": "code",
   "execution_count": null,
   "id": "8b8ab75c",
   "metadata": {},
   "outputs": [
    {
     "name": "stderr",
     "output_type": "stream",
     "text": [
      "Registered model 'EMI_Classifier_XGBoost' already exists. Creating a new version of this model...\n",
      "2025/10/31 00:17:15 WARNING mlflow.tracking._model_registry.fluent: Run with id cfe97507737c468d96328c44d88ba10e has no artifacts at artifact path 'model', registering model based on models:/m-489da889889443a8af1433bbbad454b8 instead\n",
      "Created version '3' of model 'EMI_Classifier_XGBoost'.\n"
     ]
    },
    {
     "data": {
      "text/plain": [
       "<ModelVersion: aliases=[], creation_timestamp=1761850035237, current_stage='None', deployment_job_state=None, description=None, last_updated_timestamp=1761850035237, metrics=[<Metric: dataset_digest=None, dataset_name=None, key='Accuracy', model_id='m-489da889889443a8af1433bbbad454b8', run_id='cfe97507737c468d96328c44d88ba10e', step=0, timestamp=1761765894106, value=0.9825203460101346>,\n",
       " <Metric: dataset_digest=None, dataset_name=None, key='F1_Score', model_id='m-489da889889443a8af1433bbbad454b8', run_id='cfe97507737c468d96328c44d88ba10e', step=0, timestamp=1761765894139, value=0.9833273662190362>,\n",
       " <Metric: dataset_digest=None, dataset_name=None, key='Precision', model_id='m-489da889889443a8af1433bbbad454b8', run_id='cfe97507737c468d96328c44d88ba10e', step=0, timestamp=1761765894119, value=0.984853183694632>,\n",
       " <Metric: dataset_digest=None, dataset_name=None, key='Recall', model_id='m-489da889889443a8af1433bbbad454b8', run_id='cfe97507737c468d96328c44d88ba10e', step=0, timestamp=1761765894129, value=0.9825203460101346>,\n",
       " <Metric: dataset_digest=None, dataset_name=None, key='ROC_AUC', model_id='m-489da889889443a8af1433bbbad454b8', run_id='cfe97507737c468d96328c44d88ba10e', step=0, timestamp=1761765894184, value=0.9979712170172425>], model_id='m-489da889889443a8af1433bbbad454b8', name='EMI_Classifier_XGBoost', params={'base_score': 'None',\n",
       " 'booster': 'None',\n",
       " 'callbacks': 'None',\n",
       " 'colsample_bylevel': 'None',\n",
       " 'colsample_bynode': 'None',\n",
       " 'colsample_bytree': 'None',\n",
       " 'device': 'None',\n",
       " 'early_stopping_rounds': 'None',\n",
       " 'enable_categorical': 'False',\n",
       " 'eval_metric': 'mlogloss',\n",
       " 'feature_types': 'None',\n",
       " 'feature_weights': 'None',\n",
       " 'gamma': 'None',\n",
       " 'grow_policy': 'None',\n",
       " 'importance_type': 'None',\n",
       " 'interaction_constraints': 'None',\n",
       " 'learning_rate': 'None',\n",
       " 'max_bin': 'None',\n",
       " 'max_cat_threshold': 'None',\n",
       " 'max_cat_to_onehot': 'None',\n",
       " 'max_delta_step': 'None',\n",
       " 'max_depth': 'None',\n",
       " 'max_leaves': 'None',\n",
       " 'min_child_weight': 'None',\n",
       " 'missing': 'nan',\n",
       " 'monotone_constraints': 'None',\n",
       " 'multi_strategy': 'None',\n",
       " 'n_estimators': 'None',\n",
       " 'n_jobs': 'None',\n",
       " 'num_parallel_tree': 'None',\n",
       " 'objective': 'multi:softprob',\n",
       " 'random_state': 'None',\n",
       " 'reg_alpha': 'None',\n",
       " 'reg_lambda': 'None',\n",
       " 'sampling_method': 'None',\n",
       " 'scale_pos_weight': 'None',\n",
       " 'subsample': 'None',\n",
       " 'tree_method': 'None',\n",
       " 'use_label_encoder': 'False',\n",
       " 'validate_parameters': 'None',\n",
       " 'verbosity': 'None'}, run_id='cfe97507737c468d96328c44d88ba10e', run_link=None, source='models:/m-489da889889443a8af1433bbbad454b8', status='READY', status_message=None, tags={}, user_id=None, version=3>"
      ]
     },
     "execution_count": 10,
     "metadata": {},
     "output_type": "execute_result"
    }
   ],
   "source": [
    "mlflow.register_model(\n",
    "    model_uri=\"runs:/cfe97507737c468d96328c44d88ba10e/model\",\n",
    "    name=\"EMI_Classifier_XGBoost_Updated\"\n",
    ")"
   ]
  },
  {
   "cell_type": "code",
   "execution_count": 8,
   "id": "71653222",
   "metadata": {},
   "outputs": [
    {
     "name": "stderr",
     "output_type": "stream",
     "text": [
      "Successfully registered model 'EMI_Regressor_XGBoost'.\n",
      "2025/10/30 01:28:29 WARNING mlflow.tracking._model_registry.fluent: Run with id c6efeb5a1e844a378d0b6051d1f52497 has no artifacts at artifact path 'model', registering model based on models:/m-064cf115b7264f9ba051e9161f74b1e3 instead\n",
      "2025/10/30 01:28:29 INFO mlflow.store.model_registry.abstract_store: Waiting up to 300 seconds for model version to finish creation. Model name: EMI_Regressor_XGBoost, version 1\n",
      "Created version '1' of model 'EMI_Regressor_XGBoost'.\n"
     ]
    },
    {
     "data": {
      "text/plain": [
       "<ModelVersion: aliases=[], creation_timestamp=1761767909435, current_stage='None', deployment_job_state=<ModelVersionDeploymentJobState: current_task_name='', job_id='', job_state='DEPLOYMENT_JOB_CONNECTION_STATE_UNSPECIFIED', run_id='', run_state='DEPLOYMENT_JOB_RUN_STATE_UNSPECIFIED'>, description='', last_updated_timestamp=1761767909435, metrics=None, model_id=None, name='EMI_Regressor_XGBoost', params=None, run_id='c6efeb5a1e844a378d0b6051d1f52497', run_link='', source='models:/m-064cf115b7264f9ba051e9161f74b1e3', status='READY', status_message=None, tags={}, user_id='', version='1'>"
      ]
     },
     "execution_count": 8,
     "metadata": {},
     "output_type": "execute_result"
    }
   ],
   "source": [
    "mlflow.register_model(\n",
    "    model_uri=\"runs:/c6efeb5a1e844a378d0b6051d1f52497/model\",\n",
    "    name=\"EMI_Regressor_XGBoost\"\n",
    ")"
   ]
  },
  {
   "cell_type": "code",
   "execution_count": 9,
   "id": "1b374e48",
   "metadata": {},
   "outputs": [
    {
     "name": "stderr",
     "output_type": "stream",
     "text": [
      "C:\\Users\\Tasneem Inayath\\AppData\\Local\\Temp\\ipykernel_7196\\515886856.py:4: FutureWarning: ``mlflow.tracking.client.MlflowClient.transition_model_version_stage`` is deprecated since 2.9.0. Model registry stages will be removed in a future major release. To learn more about the deprecation of model registry stages, see our migration guide here: https://mlflow.org/docs/latest/model-registry.html#migrating-from-stages\n",
      "  client.transition_model_version_stage(\n",
      "C:\\Users\\Tasneem Inayath\\AppData\\Local\\Temp\\ipykernel_7196\\515886856.py:10: FutureWarning: ``mlflow.tracking.client.MlflowClient.transition_model_version_stage`` is deprecated since 2.9.0. Model registry stages will be removed in a future major release. To learn more about the deprecation of model registry stages, see our migration guide here: https://mlflow.org/docs/latest/model-registry.html#migrating-from-stages\n",
      "  client.transition_model_version_stage(\n"
     ]
    },
    {
     "data": {
      "text/plain": [
       "<ModelVersion: aliases=[], creation_timestamp=1761767909435, current_stage='Production', deployment_job_state=<ModelVersionDeploymentJobState: current_task_name='', job_id='', job_state='DEPLOYMENT_JOB_CONNECTION_STATE_UNSPECIFIED', run_id='', run_state='DEPLOYMENT_JOB_RUN_STATE_UNSPECIFIED'>, description='', last_updated_timestamp=1761767954596, metrics=None, model_id=None, name='EMI_Regressor_XGBoost', params=None, run_id='c6efeb5a1e844a378d0b6051d1f52497', run_link='', source='models:/m-064cf115b7264f9ba051e9161f74b1e3', status='READY', status_message=None, tags={}, user_id='', version='1'>"
      ]
     },
     "execution_count": 9,
     "metadata": {},
     "output_type": "execute_result"
    }
   ],
   "source": [
    "from mlflow.tracking import MlflowClient\n",
    "client = MlflowClient()\n",
    "\n",
    "client.transition_model_version_stage(\n",
    "    name=\"EMI_Classifier_XGBoost\",\n",
    "    version=1,\n",
    "    stage=\"Production\"\n",
    ")\n",
    "\n",
    "client.transition_model_version_stage(\n",
    "    name=\"EMI_Regressor_XGBoost\",\n",
    "    version=1,\n",
    "    stage=\"Production\"\n",
    ")"
   ]
  },
  {
   "cell_type": "code",
   "execution_count": 11,
   "id": "42b6ad70",
   "metadata": {},
   "outputs": [
    {
     "name": "stdout",
     "output_type": "stream",
     "text": [
      "[1]\n",
      "[33660.38]\n"
     ]
    }
   ],
   "source": [
    "import mlflow.pyfunc\n",
    "\n",
    "classifier = mlflow.pyfunc.load_model(\"models:/EMI_Classifier_XGBoost/Production\")\n",
    "regressor = mlflow.pyfunc.load_model(\"models:/EMI_Regressor_XGBoost/Production\")\n",
    "\n",
    "# Predict\n",
    "print(classifier.predict(pd.DataFrame(X_test[:1])))\n",
    "print(regressor.predict(pd.DataFrame(X_test_reg[:1])))"
   ]
  },
  {
   "cell_type": "code",
   "execution_count": 14,
   "id": "3d089672",
   "metadata": {},
   "outputs": [
    {
     "name": "stdout",
     "output_type": "stream",
     "text": [
      "[0]\n",
      "[40796.004]\n"
     ]
    }
   ],
   "source": [
    "# Classification\n",
    "print(classifier.predict(pd.DataFrame(X_test[10:11])))\n",
    "\n",
    "# Regression\n",
    "print(regressor.predict(pd.DataFrame(X_test_reg[10:11])))"
   ]
  },
  {
   "cell_type": "code",
   "execution_count": 16,
   "id": "4d2ce74c",
   "metadata": {},
   "outputs": [
    {
     "name": "stdout",
     "output_type": "stream",
     "text": [
      "Index(['age', 'monthly_salary', 'years_of_employment', 'monthly_rent',\n",
      "       'family_size', 'dependents', 'school_fees', 'college_fees',\n",
      "       'travel_expenses', 'groceries_utilities', 'other_monthly_expenses',\n",
      "       'existing_loans', 'current_emi_amount', 'credit_score', 'bank_balance',\n",
      "       'emergency_fund', 'requested_amount', 'requested_tenure',\n",
      "       'max_monthly_emi', 'total_expenses', 'debt_to_income_ratio',\n",
      "       'expense_to_income_ratio', 'emi_gap', 'credit_risk_score',\n",
      "       'employment_stability', 'education_High School',\n",
      "       'education_Post Graduate', 'education_Professional',\n",
      "       'employment_type_private', 'employment_type_self-employed',\n",
      "       'emi_scenario_Education Emi', 'emi_scenario_Home Appliances Emi',\n",
      "       'emi_scenario_Personal Loan Emi', 'emi_scenario_Vehicle Emi',\n",
      "       'company_type_MNC', 'company_type_Mid-size', 'company_type_Small',\n",
      "       'company_type_Startup', 'house_type_Own', 'house_type_Rented',\n",
      "       'marital_status_Single', 'gender_FEMALE', 'gender_Female', 'gender_M',\n",
      "       'gender_MALE', 'gender_Male', 'gender_female', 'gender_male',\n",
      "       'salary_credit_interaction', 'balance_emi_gap'],\n",
      "      dtype='object')\n"
     ]
    }
   ],
   "source": [
    "print(X_train.columns)"
   ]
  },
  {
   "cell_type": "code",
   "execution_count": 19,
   "id": "e2cc421d",
   "metadata": {},
   "outputs": [],
   "source": [
    "custom_applicant = custom_applicant.astype({\n",
    "    'age': 'float',\n",
    "    'monthly_salary': 'float',\n",
    "    'years_of_employment': 'float',\n",
    "    'monthly_rent': 'float',\n",
    "    'school_fees': 'float',\n",
    "    'college_fees': 'float',\n",
    "    'travel_expenses': 'float',\n",
    "    'groceries_utilities': 'float',\n",
    "    'other_monthly_expenses': 'float',\n",
    "    'current_emi_amount': 'float',\n",
    "    'credit_score': 'float',\n",
    "    'bank_balance': 'float',\n",
    "    'emergency_fund': 'float',\n",
    "    'requested_amount': 'float',\n",
    "    'max_monthly_emi': 'float',\n",
    "    'total_expenses': 'float',\n",
    "    'debt_to_income_ratio': 'float',\n",
    "    'expense_to_income_ratio': 'float',\n",
    "    'emi_gap': 'float',\n",
    "    'credit_risk_score': 'float',\n",
    "    'employment_stability': 'float',\n",
    "    'salary_credit_interaction': 'float',\n",
    "    'balance_emi_gap': 'float',\n",
    "    'family_size': 'int',\n",
    "    'dependents': 'int',\n",
    "    'existing_loans': 'int',\n",
    "    'requested_tenure': 'int'\n",
    "})"
   ]
  },
  {
   "cell_type": "code",
   "execution_count": 20,
   "id": "2b168f33",
   "metadata": {},
   "outputs": [],
   "source": [
    "bool_columns = [col for col in custom_applicant.columns if 'education_' in col or\n",
    "                'employment_type_' in col or 'emi_scenario_' in col or\n",
    "                'company_type_' in col or 'house_type_' in col or\n",
    "                'marital_status_' in col or 'gender_' in col]\n",
    "\n",
    "custom_applicant[bool_columns] = custom_applicant[bool_columns].astype(bool)"
   ]
  },
  {
   "cell_type": "code",
   "execution_count": 21,
   "id": "073bad26",
   "metadata": {},
   "outputs": [
    {
     "name": "stderr",
     "output_type": "stream",
     "text": [
      "2025/10/30 01:40:05 WARNING mlflow.models.utils: Found extra inputs in the model input that are not defined in the model signature: `['max_monthly_emi']`. These inputs will be ignored.\n"
     ]
    },
    {
     "name": "stdout",
     "output_type": "stream",
     "text": [
      "Predicted Eligibility Class: 2\n",
      "Predicted Max EMI: ₹4,803.41\n"
     ]
    }
   ],
   "source": [
    "eligibility = classifier.predict(custom_applicant)[0]\n",
    "max_emi = regressor.predict(custom_applicant)[0]\n",
    "\n",
    "print(f\"Predicted Eligibility Class: {eligibility}\")\n",
    "print(f\"Predicted Max EMI: ₹{max_emi:,.2f}\")"
   ]
  },
  {
   "cell_type": "code",
   "execution_count": 3,
   "id": "68f0b859",
   "metadata": {},
   "outputs": [
    {
     "name": "stderr",
     "output_type": "stream",
     "text": [
      "C:\\Users\\Tasneem Inayath\\AppData\\Local\\Temp\\ipykernel_5480\\3490867906.py:4: DtypeWarning: Columns (0) have mixed types. Specify dtype option on import or set low_memory=False.\n",
      "  df = pd.read_csv(\"emi_prediction_dataset.csv\")  # Replace with your actual file path\n"
     ]
    },
    {
     "name": "stdout",
     "output_type": "stream",
     "text": [
      "All Columns:\n",
      "['age', 'gender', 'marital_status', 'education', 'monthly_salary', 'employment_type', 'years_of_employment', 'company_type', 'house_type', 'monthly_rent', 'family_size', 'dependents', 'school_fees', 'college_fees', 'travel_expenses', 'groceries_utilities', 'other_monthly_expenses', 'existing_loans', 'current_emi_amount', 'credit_score', 'bank_balance', 'emergency_fund', 'emi_scenario', 'requested_amount', 'requested_tenure', 'emi_eligibility', 'max_monthly_emi']\n",
      "\n",
      "Unique values for categorical-like columns:\n",
      "age: [38.0, 58.0, 48.0, 32.0, 27.0, 47.0, 37.0, 31.0, 59.0, 49.0]\n",
      "gender: ['Female', 'Male', 'female', 'male', 'M', 'MALE', 'F', 'FEMALE']\n",
      "marital_status: ['Married', 'Single']\n",
      "education: ['Professional', 'Graduate', 'High School', 'Post Graduate']\n",
      "monthly_salary: ['82600.0', '21500.0', '86100.0', '66800.0', '57300.0', '38800.0', '27100.0', '392044.0', '47700.0', '129200.0']\n",
      "employment_type: ['Private', 'Government', 'Self-employed']\n",
      "company_type: ['Mid-size', 'MNC', 'Startup', 'Large Indian', 'Small']\n",
      "house_type: ['Rented', 'Family', 'Own']\n",
      "family_size: [3, 2, 4, 5, 1]\n",
      "dependents: [2, 1, 3, 4, 0]\n",
      "existing_loans: ['Yes', 'No']\n",
      "bank_balance: ['303200.0', '92500.0', '672100.0', '440900.0', '97300.0', '260800.0', '68000.0', '184600.0', '235600.0', '963200.0']\n",
      "emi_scenario: ['Personal Loan EMI', 'E-commerce Shopping EMI', 'Education EMI', 'Vehicle EMI', 'Home Appliances EMI']\n",
      "emi_eligibility: ['Not_Eligible', 'Eligible', 'High_Risk']\n"
     ]
    }
   ],
   "source": [
    "import pandas as pd\n",
    "\n",
    "# Load your dataset\n",
    "df = pd.read_csv(\"emi_prediction_dataset.csv\")  # Replace with your actual file path\n",
    "\n",
    "# Print all column names\n",
    "print(\"All Columns:\")\n",
    "print(df.columns.tolist())\n",
    "\n",
    "# Print unique values for categorical columns (up to 10 values each)\n",
    "print(\"\\nUnique values for categorical-like columns:\")\n",
    "for col in df.columns:\n",
    "    if df[col].dtype == 'object' or df[col].nunique() < 20:\n",
    "        print(f\"{col}: {df[col].dropna().unique().tolist()[:10]}\")"
   ]
  },
  {
   "cell_type": "code",
   "execution_count": null,
   "id": "c49f0be5",
   "metadata": {},
   "outputs": [
    {
     "name": "stdout",
     "output_type": "stream",
     "text": [
      "📌 All Columns:\n",
      "['age', 'monthly_salary', 'years_of_employment', 'monthly_rent', 'family_size', 'dependents', 'school_fees', 'college_fees', 'travel_expenses', 'groceries_utilities', 'other_monthly_expenses', 'existing_loans', 'current_emi_amount', 'credit_score', 'bank_balance', 'emergency_fund', 'requested_amount', 'requested_tenure', 'emi_eligibility', 'max_monthly_emi', 'total_expenses', 'debt_to_income_ratio', 'expense_to_income_ratio', 'emi_gap', 'credit_risk_score', 'employment_stability', 'education_High School', 'education_Post Graduate', 'education_Professional', 'employment_type_private', 'employment_type_self-employed', 'emi_scenario_Education Emi', 'emi_scenario_Home Appliances Emi', 'emi_scenario_Personal Loan Emi', 'emi_scenario_Vehicle Emi', 'company_type_MNC', 'company_type_Mid-size', 'company_type_Small', 'company_type_Startup', 'house_type_Own', 'house_type_Rented', 'marital_status_Single', 'gender_FEMALE', 'gender_Female', 'gender_M', 'gender_MALE', 'gender_Male', 'gender_female', 'gender_male', 'salary_credit_interaction', 'balance_emi_gap']\n",
      "\n",
      "📊 Column Data Types:\n",
      "age                                 float64\n",
      "monthly_salary                      float64\n",
      "years_of_employment                 float64\n",
      "monthly_rent                        float64\n",
      "family_size                           int64\n",
      "dependents                            int64\n",
      "school_fees                         float64\n",
      "college_fees                        float64\n",
      "travel_expenses                     float64\n",
      "groceries_utilities                 float64\n",
      "other_monthly_expenses              float64\n",
      "existing_loans                        int64\n",
      "current_emi_amount                  float64\n",
      "credit_score                        float64\n",
      "bank_balance                        float64\n",
      "emergency_fund                      float64\n",
      "requested_amount                    float64\n",
      "requested_tenure                      int64\n",
      "emi_eligibility                      object\n",
      "max_monthly_emi                     float64\n",
      "total_expenses                      float64\n",
      "debt_to_income_ratio                float64\n",
      "expense_to_income_ratio             float64\n",
      "emi_gap                             float64\n",
      "credit_risk_score                   float64\n",
      "employment_stability                float64\n",
      "education_High School                  bool\n",
      "education_Post Graduate                bool\n",
      "education_Professional                 bool\n",
      "employment_type_private                bool\n",
      "employment_type_self-employed          bool\n",
      "emi_scenario_Education Emi             bool\n",
      "emi_scenario_Home Appliances Emi       bool\n",
      "emi_scenario_Personal Loan Emi         bool\n",
      "emi_scenario_Vehicle Emi               bool\n",
      "company_type_MNC                       bool\n",
      "company_type_Mid-size                  bool\n",
      "company_type_Small                     bool\n",
      "company_type_Startup                   bool\n",
      "house_type_Own                         bool\n",
      "house_type_Rented                      bool\n",
      "marital_status_Single                  bool\n",
      "gender_FEMALE                          bool\n",
      "gender_Female                          bool\n",
      "gender_M                               bool\n",
      "gender_MALE                            bool\n",
      "gender_Male                            bool\n",
      "gender_female                          bool\n",
      "gender_male                            bool\n",
      "salary_credit_interaction           float64\n",
      "balance_emi_gap                     float64\n",
      "dtype: object\n",
      "\n",
      "🔍 Unique Values for Categorical Columns:\n",
      "age: [38.0, 58.0, 48.0, 32.0, 27.0, 47.0, 37.0, 31.0, 59.0, 49.0, 33.0, 26.0, 39.0, 57.0, 28.0]\n",
      "family_size: [3, 2, 4, 5, 1]\n",
      "dependents: [2, 1, 3, 4, 0]\n",
      "existing_loans: [1, 0]\n",
      "emi_eligibility: ['Not_Eligible', 'Eligible', 'High_Risk']\n",
      "education_High School: [False, True]\n",
      "education_Post Graduate: [False, True]\n",
      "education_Professional: [True, False]\n",
      "employment_type_private: [True, False]\n",
      "employment_type_self-employed: [False, True]\n",
      "emi_scenario_Education Emi: [False, True]\n",
      "emi_scenario_Home Appliances Emi: [False, True]\n",
      "emi_scenario_Personal Loan Emi: [True, False]\n",
      "emi_scenario_Vehicle Emi: [False, True]\n",
      "company_type_MNC: [False, True]\n",
      "company_type_Mid-size: [True, False]\n",
      "company_type_Small: [False, True]\n",
      "company_type_Startup: [False, True]\n",
      "house_type_Own: [False, True]\n",
      "house_type_Rented: [True, False]\n",
      "marital_status_Single: [False, True]\n",
      "gender_FEMALE: [False, True]\n",
      "gender_Female: [True, False]\n",
      "gender_M: [False, True]\n",
      "gender_MALE: [False, True]\n",
      "gender_Male: [False, True]\n",
      "gender_female: [False, True]\n",
      "gender_male: [False, True]\n"
     ]
    }
   ],
   "source": [
    "import pandas as pd\n",
    "\n",
    "# Load your cleaned EMI dataset\n",
    "df = pd.read_csv(\"datasets/encoded_data.csv\")  # Replace with your actual path\n",
    "\n",
    "# Step 1: Print all column names\n",
    "print(\"📌 All Columns:\")\n",
    "print(df.columns.tolist())\n",
    "\n",
    "# Step 2: Print data types\n",
    "print(\"\\n📊 Column Data Types:\")\n",
    "print(df.dtypes)\n",
    "\n",
    "# Step 3: Print unique values for categorical-like columns\n",
    "print(\"\\n🔍 Unique Values for Categorical Columns:\")\n",
    "for col in df.columns:\n",
    "    if df[col].dtype == 'object' or df[col].nunique() <= 20:\n",
    "        print(f\"{col}: {df[col].dropna().unique().tolist()}\")"
   ]
  },
  {
   "cell_type": "code",
   "execution_count": 9,
   "id": "56490ecc",
   "metadata": {},
   "outputs": [
    {
     "name": "stderr",
     "output_type": "stream",
     "text": [
      "c:\\Projects\\emi_predict_ai\\.venv\\Lib\\site-packages\\xgboost\\training.py:199: UserWarning: [23:20:36] WARNING: C:\\actions-runner\\_work\\xgboost\\xgboost\\src\\learner.cc:790: \n",
      "Parameters: { \"use_label_encoder\" } are not used.\n",
      "\n",
      "  bst.update(dtrain, iteration=i, fobj=obj)\n",
      "2025/10/30 23:20:47 WARNING mlflow.models.model: `artifact_path` is deprecated. Please use `name` instead.\n",
      "c:\\Projects\\emi_predict_ai\\.venv\\Lib\\site-packages\\xgboost\\sklearn.py:1115: UserWarning: [23:20:47] WARNING: C:\\actions-runner\\_work\\xgboost\\xgboost\\src\\c_api\\c_api.cc:1575: Saving model in the UBJSON format as default.  You can use a file extension: `json` or `ubj` to choose between formats.\n",
      "  self.get_booster().save_model(fname)\n",
      "2025/10/30 23:20:55 WARNING mlflow.models.model: Model logged without a signature and input example. Please set `input_example` parameter when logging the model to auto infer the model signature.\n",
      "Registered model 'EMI_Classifier_XGBoost' already exists. Creating a new version of this model...\n",
      "Created version '2' of model 'EMI_Classifier_XGBoost'.\n"
     ]
    }
   ],
   "source": [
    "import mlflow\n",
    "import mlflow.xgboost\n",
    "from xgboost import XGBClassifier\n",
    "\n",
    "mlflow.set_experiment(\"emi_prediction_experiments\")\n",
    "\n",
    "with mlflow.start_run(run_name=\"XGB_Classifier_with_SHAP\"):\n",
    "    xgb_model = XGBClassifier(use_label_encoder=False, eval_metric='mlogloss')\n",
    "    xgb_model.fit(X_train_bal, y_train_bal)\n",
    "    y_pred = xgb_model.predict(X_test)\n",
    "    y_pred_proba = xgb_model.predict_proba(X_test)\n",
    "    # log hyperparameters\n",
    "    mlflow.log_param(\"max_depth\", xgb_model.get_params()[\"max_depth\"])\n",
    "    mlflow.log_param(\"n_estimators\", xgb_model.get_params()[\"n_estimators\"])\n",
    "    \n",
    "    # log and register in one step with XGBoost flavor\n",
    "    mlflow.xgboost.log_model(\n",
    "        xgb_model,\n",
    "        artifact_path=\"model\",\n",
    "        registered_model_name=\"EMI_Classifier_XGBoost\"\n",
    "    )"
   ]
  },
  {
   "cell_type": "code",
   "execution_count": 11,
   "id": "8ea9e4f7",
   "metadata": {},
   "outputs": [],
   "source": [
    "from mlflow.tracking import MlflowClient\n",
    "\n",
    "client = MlflowClient()\n",
    "\n",
    "# Example: delete version 3 of your classifier\n",
    "client.delete_model_version(\n",
    "    name=\"EMI_Classifier_XGBoost\",\n",
    "    version=2\n",
    ")"
   ]
  },
  {
   "cell_type": "code",
   "execution_count": 12,
   "id": "5e5ede33",
   "metadata": {},
   "outputs": [
    {
     "name": "stdout",
     "output_type": "stream",
     "text": [
      "1 Archived\n"
     ]
    }
   ],
   "source": [
    "from mlflow.tracking import MlflowClient\n",
    "client = MlflowClient()\n",
    "versions = client.search_model_versions(\"name='EMI_Classifier_XGBoost'\")\n",
    "for v in versions:\n",
    "    print(v.version, v.current_stage)"
   ]
  },
  {
   "cell_type": "code",
   "execution_count": 13,
   "id": "a21cfd76",
   "metadata": {},
   "outputs": [
    {
     "name": "stderr",
     "output_type": "stream",
     "text": [
      "C:\\Users\\Tasneem Inayath\\AppData\\Local\\Temp\\ipykernel_24464\\1161345862.py:4: FutureWarning: ``mlflow.tracking.client.MlflowClient.transition_model_version_stage`` is deprecated since 2.9.0. Model registry stages will be removed in a future major release. To learn more about the deprecation of model registry stages, see our migration guide here: https://mlflow.org/docs/latest/model-registry.html#migrating-from-stages\n",
      "  client.transition_model_version_stage(\n"
     ]
    },
    {
     "data": {
      "text/plain": [
       "<ModelVersion: aliases=[], creation_timestamp=1761767906236, current_stage='Production', deployment_job_state=None, description='', last_updated_timestamp=1761851109111, metrics=[<Metric: dataset_digest=None, dataset_name=None, key='Accuracy', model_id='m-489da889889443a8af1433bbbad454b8', run_id='cfe97507737c468d96328c44d88ba10e', step=0, timestamp=1761765894106, value=0.9825203460101346>,\n",
       " <Metric: dataset_digest=None, dataset_name=None, key='F1_Score', model_id='m-489da889889443a8af1433bbbad454b8', run_id='cfe97507737c468d96328c44d88ba10e', step=0, timestamp=1761765894139, value=0.9833273662190362>,\n",
       " <Metric: dataset_digest=None, dataset_name=None, key='Precision', model_id='m-489da889889443a8af1433bbbad454b8', run_id='cfe97507737c468d96328c44d88ba10e', step=0, timestamp=1761765894119, value=0.984853183694632>,\n",
       " <Metric: dataset_digest=None, dataset_name=None, key='Recall', model_id='m-489da889889443a8af1433bbbad454b8', run_id='cfe97507737c468d96328c44d88ba10e', step=0, timestamp=1761765894129, value=0.9825203460101346>,\n",
       " <Metric: dataset_digest=None, dataset_name=None, key='ROC_AUC', model_id='m-489da889889443a8af1433bbbad454b8', run_id='cfe97507737c468d96328c44d88ba10e', step=0, timestamp=1761765894184, value=0.9979712170172425>], model_id='m-489da889889443a8af1433bbbad454b8', name='EMI_Classifier_XGBoost', params={'base_score': 'None',\n",
       " 'booster': 'None',\n",
       " 'callbacks': 'None',\n",
       " 'colsample_bylevel': 'None',\n",
       " 'colsample_bynode': 'None',\n",
       " 'colsample_bytree': 'None',\n",
       " 'device': 'None',\n",
       " 'early_stopping_rounds': 'None',\n",
       " 'enable_categorical': 'False',\n",
       " 'eval_metric': 'mlogloss',\n",
       " 'feature_types': 'None',\n",
       " 'feature_weights': 'None',\n",
       " 'gamma': 'None',\n",
       " 'grow_policy': 'None',\n",
       " 'importance_type': 'None',\n",
       " 'interaction_constraints': 'None',\n",
       " 'learning_rate': 'None',\n",
       " 'max_bin': 'None',\n",
       " 'max_cat_threshold': 'None',\n",
       " 'max_cat_to_onehot': 'None',\n",
       " 'max_delta_step': 'None',\n",
       " 'max_depth': 'None',\n",
       " 'max_leaves': 'None',\n",
       " 'min_child_weight': 'None',\n",
       " 'missing': 'nan',\n",
       " 'monotone_constraints': 'None',\n",
       " 'multi_strategy': 'None',\n",
       " 'n_estimators': 'None',\n",
       " 'n_jobs': 'None',\n",
       " 'num_parallel_tree': 'None',\n",
       " 'objective': 'multi:softprob',\n",
       " 'random_state': 'None',\n",
       " 'reg_alpha': 'None',\n",
       " 'reg_lambda': 'None',\n",
       " 'sampling_method': 'None',\n",
       " 'scale_pos_weight': 'None',\n",
       " 'subsample': 'None',\n",
       " 'tree_method': 'None',\n",
       " 'use_label_encoder': 'False',\n",
       " 'validate_parameters': 'None',\n",
       " 'verbosity': 'None'}, run_id='cfe97507737c468d96328c44d88ba10e', run_link='', source='models:/m-489da889889443a8af1433bbbad454b8', status='READY', status_message=None, tags={}, user_id=None, version=1>"
      ]
     },
     "execution_count": 13,
     "metadata": {},
     "output_type": "execute_result"
    }
   ],
   "source": [
    "from mlflow.tracking import MlflowClient\n",
    "\n",
    "client = MlflowClient()\n",
    "client.transition_model_version_stage(\n",
    "    name=\"EMI_Classifier_XGBoost\",\n",
    "    version=1,          # your archived version\n",
    "    stage=\"Production\"\n",
    ")"
   ]
  }
 ],
 "metadata": {
  "kernelspec": {
   "display_name": ".venv (3.13.9)",
   "language": "python",
   "name": "python3"
  },
  "language_info": {
   "codemirror_mode": {
    "name": "ipython",
    "version": 3
   },
   "file_extension": ".py",
   "mimetype": "text/x-python",
   "name": "python",
   "nbconvert_exporter": "python",
   "pygments_lexer": "ipython3",
   "version": "3.13.9"
  }
 },
 "nbformat": 4,
 "nbformat_minor": 5
}
